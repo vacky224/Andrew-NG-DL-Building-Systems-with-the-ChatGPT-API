{
 "cells": [
  {
   "cell_type": "code",
   "execution_count": 1,
   "id": "cb2a7628-e626-4474-bf01-745eec74126a",
   "metadata": {},
   "outputs": [],
   "source": [
    "import os\n",
    "import openai\n",
    "from dotenv import load_dotenv, find_dotenv\n",
    "_ = load_dotenv(find_dotenv()) # read local .env file\n",
    "\n",
    "openai.api_key  = os.environ['OPENAI_API_KEY']"
   ]
  },
  {
   "cell_type": "code",
   "execution_count": 3,
   "id": "1eb4485e-b0a3-4107-8b8a-98f108f07789",
   "metadata": {},
   "outputs": [
    {
     "data": {
      "text/plain": [
       "'C:\\\\Users\\\\nairvis\\\\Downloads\\\\llm'"
      ]
     },
     "execution_count": 3,
     "metadata": {},
     "output_type": "execute_result"
    }
   ],
   "source": [
    "pwd"
   ]
  },
  {
   "cell_type": "code",
   "execution_count": 5,
   "id": "b9eed08d-20d1-4e02-b3d8-bfdb4660df08",
   "metadata": {},
   "outputs": [],
   "source": [
    "client = openai.OpenAI()\n",
    "def get_completion_from_messages(messages, model=\"gpt-3.5-turbo\",temperature=0,max_tokens=500):\n",
    "    response = client.chat.completions.create(\n",
    "        model=model,\n",
    "        messages=messages,\n",
    "        temperature=temperature,\n",
    "        max_tokens=max_tokens,\n",
    "    )\n",
    "    return response.choices[0].message.content"
   ]
  },
  {
   "cell_type": "markdown",
   "id": "778a5938-5ee3-4100-9ef5-b181893a70d5",
   "metadata": {},
   "source": [
    "***Implement a complex task with multiple prompts***\r\n",
    "Extract relevant product and category names"
   ]
  },
  {
   "cell_type": "code",
   "execution_count": 8,
   "id": "e1c1c3e2-777c-49be-a241-21b396703dde",
   "metadata": {},
   "outputs": [
    {
     "name": "stdout",
     "output_type": "stream",
     "text": [
      "[\n",
      "    {'category': 'Smartphones and Accessories'},\n",
      "    {'category': 'Cameras and Camcorders'},\n",
      "    {'category': 'Televisions and Home Theater Systems'}\n",
      "]\n"
     ]
    }
   ],
   "source": [
    "delimiter = \"####\"\n",
    "system_message = f\"\"\"\n",
    "You will be provided with customer service queries. \\\n",
    "The customer service query will be delimited with \\\n",
    "{delimiter} characters.\n",
    "Output a python list of objects, where each object has \\\n",
    "the following format:\n",
    "    'category': <one of Computers and Laptops, \\\n",
    "    Smartphones and Accessories, \\\n",
    "    Televisions and Home Theater Systems, \\\n",
    "    Gaming Consoles and Accessories, \n",
    "    Audio Equipment, Cameras and Camcorders>,\n",
    "OR\n",
    "    'products': <a list of products that must \\\n",
    "    be found in the allowed products below>\n",
    "\n",
    "Where the categories and products must be found in \\\n",
    "the customer service query.\n",
    "If a product is mentioned, it must be associated with \\\n",
    "the correct category in the allowed products list below.\n",
    "If no products or categories are found, output an \\\n",
    "empty list.\n",
    "\n",
    "Allowed products: \n",
    "\n",
    "Computers and Laptops category:\n",
    "TechPro Ultrabook\n",
    "BlueWave Gaming Laptop\n",
    "PowerLite Convertible\n",
    "TechPro Desktop\n",
    "BlueWave Chromebook\n",
    "\n",
    "Smartphones and Accessories category:\n",
    "SmartX ProPhone\n",
    "MobiTech PowerCase\n",
    "SmartX MiniPhone\n",
    "MobiTech Wireless Charger\n",
    "SmartX EarBuds\n",
    "\n",
    "Televisions and Home Theater Systems category:\n",
    "CineView 4K TV\n",
    "SoundMax Home Theater\n",
    "CineView 8K TV\n",
    "SoundMax Soundbar\n",
    "CineView OLED TV\n",
    "\n",
    "Gaming Consoles and Accessories category:\n",
    "GameSphere X\n",
    "ProGamer Controller\n",
    "GameSphere Y\n",
    "ProGamer Racing Wheel\n",
    "GameSphere VR Headset\n",
    "\n",
    "Audio Equipment category:\n",
    "AudioPhonic Noise-Canceling Headphones\n",
    "WaveSound Bluetooth Speaker\n",
    "AudioPhonic True Wireless Earbuds\n",
    "WaveSound Soundbar\n",
    "AudioPhonic Turntable\n",
    "\n",
    "Cameras and Camcorders category:\n",
    "FotoSnap DSLR Camera\n",
    "ActionCam 4K\n",
    "FotoSnap Mirrorless Camera\n",
    "ZoomMaster Camcorder\n",
    "FotoSnap Instant Camera\n",
    "\n",
    "Only output the list of objects, with nothing else.\n",
    "\"\"\"\n",
    "user_message_1 = f\"\"\"\n",
    " tell me about the smartx pro phone and \\\n",
    " the fotosnap camera, the dslr one. \\\n",
    " Also tell me about your tvs \"\"\"\n",
    "messages =  [  \n",
    "{'role':'system', \n",
    " 'content': system_message},    \n",
    "{'role':'user', \n",
    " 'content': f\"{delimiter}{user_message_1}{delimiter}\"},  \n",
    "] \n",
    "category_and_product_response_1 = get_completion_from_messages(messages)\n",
    "print(category_and_product_response_1)"
   ]
  },
  {
   "cell_type": "code",
   "execution_count": 10,
   "id": "b256040c-73f8-4cfa-b3f8-d64d3ef09f24",
   "metadata": {},
   "outputs": [
    {
     "name": "stdout",
     "output_type": "stream",
     "text": [
      "[\n",
      "    {'category': 'Televisions and Home Theater Systems'},\n",
      "    {'products': ['AudioPhonic True Wireless Earbuds', 'ZoomMaster Camcorder']}\n",
      "]\n"
     ]
    }
   ],
   "source": [
    "user_message_1 = f\"\"\"\n",
    " tell me about the AudioPhonic True Wireless Earbuds and \\\n",
    " the ZoomMaster Camcorder. \\\n",
    " Also tell me about your tvs \"\"\"\n",
    "messages =  [  \n",
    "{'role':'system', \n",
    " 'content': system_message},    \n",
    "{'role':'user', \n",
    " 'content': f\"{delimiter}{user_message_1}{delimiter}\"},  \n",
    "] \n",
    "category_and_product_response_1 = get_completion_from_messages(messages)\n",
    "print(category_and_product_response_1)"
   ]
  },
  {
   "cell_type": "code",
   "execution_count": 12,
   "id": "c17a9599-1305-49e7-8d4f-7573bbe83ab6",
   "metadata": {},
   "outputs": [
    {
     "name": "stdout",
     "output_type": "stream",
     "text": [
      "[]\n"
     ]
    }
   ],
   "source": [
    "user_message_2 = f\"\"\"\n",
    "my router isn't working\"\"\"\n",
    "messages =  [  \n",
    "{'role':'system',\n",
    " 'content': system_message},    \n",
    "{'role':'user',\n",
    " 'content': f\"{delimiter}{user_message_2}{delimiter}\"},  \n",
    "] \n",
    "response = get_completion_from_messages(messages)\n",
    "print(response)"
   ]
  },
  {
   "cell_type": "markdown",
   "id": "37f25bfa-adee-4efb-99aa-da0d513372f9",
   "metadata": {},
   "source": [
    "***Retrieve detailed product information for extracted products and categories***"
   ]
  },
  {
   "cell_type": "code",
   "execution_count": 15,
   "id": "5edf8a20-0d11-4bb1-aeae-f450e09134ce",
   "metadata": {},
   "outputs": [],
   "source": [
    "# product information\n",
    "products = {\n",
    "    \"TechPro Ultrabook\": {\n",
    "        \"name\": \"TechPro Ultrabook\",\n",
    "        \"category\": \"Computers and Laptops\",\n",
    "        \"brand\": \"TechPro\",\n",
    "        \"model_number\": \"TP-UB100\",\n",
    "        \"warranty\": \"1 year\",\n",
    "        \"rating\": 4.5,\n",
    "        \"features\": [\"13.3-inch display\", \"8GB RAM\", \"256GB SSD\", \"Intel Core i5 processor\"],\n",
    "        \"description\": \"A sleek and lightweight ultrabook for everyday use.\",\n",
    "        \"price\": 799.99\n",
    "    },\n",
    "    \"BlueWave Gaming Laptop\": {\n",
    "        \"name\": \"BlueWave Gaming Laptop\",\n",
    "        \"category\": \"Computers and Laptops\",\n",
    "        \"brand\": \"BlueWave\",\n",
    "        \"model_number\": \"BW-GL200\",\n",
    "        \"warranty\": \"2 years\",\n",
    "        \"rating\": 4.7,\n",
    "        \"features\": [\"15.6-inch display\", \"16GB RAM\", \"512GB SSD\", \"NVIDIA GeForce RTX 3060\"],\n",
    "        \"description\": \"A high-performance gaming laptop for an immersive experience.\",\n",
    "        \"price\": 1199.99\n",
    "    },\n",
    "    \"PowerLite Convertible\": {\n",
    "        \"name\": \"PowerLite Convertible\",\n",
    "        \"category\": \"Computers and Laptops\",\n",
    "        \"brand\": \"PowerLite\",\n",
    "        \"model_number\": \"PL-CV300\",\n",
    "        \"warranty\": \"1 year\",\n",
    "        \"rating\": 4.3,\n",
    "        \"features\": [\"14-inch touchscreen\", \"8GB RAM\", \"256GB SSD\", \"360-degree hinge\"],\n",
    "        \"description\": \"A versatile convertible laptop with a responsive touchscreen.\",\n",
    "        \"price\": 699.99\n",
    "    },\n",
    "    \"TechPro Desktop\": {\n",
    "        \"name\": \"TechPro Desktop\",\n",
    "        \"category\": \"Computers and Laptops\",\n",
    "        \"brand\": \"TechPro\",\n",
    "        \"model_number\": \"TP-DT500\",\n",
    "        \"warranty\": \"1 year\",\n",
    "        \"rating\": 4.4,\n",
    "        \"features\": [\"Intel Core i7 processor\", \"16GB RAM\", \"1TB HDD\", \"NVIDIA GeForce GTX 1660\"],\n",
    "        \"description\": \"A powerful desktop computer for work and play.\",\n",
    "        \"price\": 999.99\n",
    "    },\n",
    "    \"BlueWave Chromebook\": {\n",
    "        \"name\": \"BlueWave Chromebook\",\n",
    "        \"category\": \"Computers and Laptops\",\n",
    "        \"brand\": \"BlueWave\",\n",
    "        \"model_number\": \"BW-CB100\",\n",
    "        \"warranty\": \"1 year\",\n",
    "        \"rating\": 4.1,\n",
    "        \"features\": [\"11.6-inch display\", \"4GB RAM\", \"32GB eMMC\", \"Chrome OS\"],\n",
    "        \"description\": \"A compact and affordable Chromebook for everyday tasks.\",\n",
    "        \"price\": 249.99\n",
    "    },\n",
    "    \"SmartX ProPhone\": {\n",
    "        \"name\": \"SmartX ProPhone\",\n",
    "        \"category\": \"Smartphones and Accessories\",\n",
    "        \"brand\": \"SmartX\",\n",
    "        \"model_number\": \"SX-PP10\",\n",
    "        \"warranty\": \"1 year\",\n",
    "        \"rating\": 4.6,\n",
    "        \"features\": [\"6.1-inch display\", \"128GB storage\", \"12MP dual camera\", \"5G\"],\n",
    "        \"description\": \"A powerful smartphone with advanced camera features.\",\n",
    "        \"price\": 899.99\n",
    "    },\n",
    "    \"MobiTech PowerCase\": {\n",
    "        \"name\": \"MobiTech PowerCase\",\n",
    "        \"category\": \"Smartphones and Accessories\",\n",
    "        \"brand\": \"MobiTech\",\n",
    "        \"model_number\": \"MT-PC20\",\n",
    "        \"warranty\": \"1 year\",\n",
    "        \"rating\": 4.3,\n",
    "        \"features\": [\"5000mAh battery\", \"Wireless charging\", \"Compatible with SmartX ProPhone\"],\n",
    "        \"description\": \"A protective case with built-in battery for extended usage.\",\n",
    "        \"price\": 59.99\n",
    "    },\n",
    "    \"SmartX MiniPhone\": {\n",
    "        \"name\": \"SmartX MiniPhone\",\n",
    "        \"category\": \"Smartphones and Accessories\",\n",
    "        \"brand\": \"SmartX\",\n",
    "        \"model_number\": \"SX-MP5\",\n",
    "        \"warranty\": \"1 year\",\n",
    "        \"rating\": 4.2,\n",
    "        \"features\": [\"4.7-inch display\", \"64GB storage\", \"8MP camera\", \"4G\"],\n",
    "        \"description\": \"A compact and affordable smartphone for basic tasks.\",\n",
    "        \"price\": 399.99\n",
    "    },\n",
    "    \"MobiTech Wireless Charger\": {\n",
    "        \"name\": \"MobiTech Wireless Charger\",\n",
    "        \"category\": \"Smartphones and Accessories\",\n",
    "        \"brand\": \"MobiTech\",\n",
    "        \"model_number\": \"MT-WC10\",\n",
    "        \"warranty\": \"1 year\",\n",
    "        \"rating\": 4.5,\n",
    "        \"features\": [\"10W fast charging\", \"Qi-compatible\", \"LED indicator\", \"Compact design\"],\n",
    "        \"description\": \"A convenient wireless charger for a clutter-free workspace.\",\n",
    "        \"price\": 29.99\n",
    "    },\n",
    "    \"SmartX EarBuds\": {\n",
    "        \"name\": \"SmartX EarBuds\",\n",
    "        \"category\": \"Smartphones and Accessories\",\n",
    "        \"brand\": \"SmartX\",\n",
    "        \"model_number\": \"SX-EB20\",\n",
    "        \"warranty\": \"1 year\",\n",
    "        \"rating\": 4.4,\n",
    "        \"features\": [\"True wireless\", \"Bluetooth 5.0\", \"Touch controls\", \"24-hour battery life\"],\n",
    "        \"description\": \"Experience true wireless freedom with these comfortable earbuds.\",\n",
    "        \"price\": 99.99\n",
    "    },\n",
    "\n",
    "    \"CineView 4K TV\": {\n",
    "        \"name\": \"CineView 4K TV\",\n",
    "        \"category\": \"Televisions and Home Theater Systems\",\n",
    "        \"brand\": \"CineView\",\n",
    "        \"model_number\": \"CV-4K55\",\n",
    "        \"warranty\": \"2 years\",\n",
    "        \"rating\": 4.8,\n",
    "        \"features\": [\"55-inch display\", \"4K resolution\", \"HDR\", \"Smart TV\"],\n",
    "        \"description\": \"A stunning 4K TV with vibrant colors and smart features.\",\n",
    "        \"price\": 599.99\n",
    "    },\n",
    "    \"SoundMax Home Theater\": {\n",
    "        \"name\": \"SoundMax Home Theater\",\n",
    "        \"category\": \"Televisions and Home Theater Systems\",\n",
    "        \"brand\": \"SoundMax\",\n",
    "        \"model_number\": \"SM-HT100\",\n",
    "        \"warranty\": \"1 year\",\n",
    "        \"rating\": 4.4,\n",
    "        \"features\": [\"5.1 channel\", \"1000W output\", \"Wireless subwoofer\", \"Bluetooth\"],\n",
    "        \"description\": \"A powerful home theater system for an immersive audio experience.\",\n",
    "        \"price\": 399.99\n",
    "    },\n",
    "    \"CineView 8K TV\": {\n",
    "        \"name\": \"CineView 8K TV\",\n",
    "        \"category\": \"Televisions and Home Theater Systems\",\n",
    "        \"brand\": \"CineView\",\n",
    "        \"model_number\": \"CV-8K65\",\n",
    "        \"warranty\": \"2 years\",\n",
    "        \"rating\": 4.9,\n",
    "        \"features\": [\"65-inch display\", \"8K resolution\", \"HDR\", \"Smart TV\"],\n",
    "        \"description\": \"Experience the future of television with this stunning 8K TV.\",\n",
    "        \"price\": 2999.99\n",
    "    },\n",
    "    \"SoundMax Soundbar\": {\n",
    "        \"name\": \"SoundMax Soundbar\",\n",
    "        \"category\": \"Televisions and Home Theater Systems\",\n",
    "        \"brand\": \"SoundMax\",\n",
    "        \"model_number\": \"SM-SB50\",\n",
    "        \"warranty\": \"1 year\",\n",
    "        \"rating\": 4.3,\n",
    "        \"features\": [\"2.1 channel\", \"300W output\", \"Wireless subwoofer\", \"Bluetooth\"],\n",
    "        \"description\": \"Upgrade your TV's audio with this sleek and powerful soundbar.\",\n",
    "        \"price\": 199.99\n",
    "    },\n",
    "    \"CineView OLED TV\": {\n",
    "        \"name\": \"CineView OLED TV\",\n",
    "        \"category\": \"Televisions and Home Theater Systems\",\n",
    "        \"brand\": \"CineView\",\n",
    "        \"model_number\": \"CV-OLED55\",\n",
    "        \"warranty\": \"2 years\",\n",
    "        \"rating\": 4.7,\n",
    "        \"features\": [\"55-inch display\", \"4K resolution\", \"HDR\", \"Smart TV\"],\n",
    "        \"description\": \"Experience true blacks and vibrant colors with this OLED TV.\",\n",
    "        \"price\": 1499.99\n",
    "    },\n",
    "\n",
    "    \"GameSphere X\": {\n",
    "        \"name\": \"GameSphere X\",\n",
    "        \"category\": \"Gaming Consoles and Accessories\",\n",
    "        \"brand\": \"GameSphere\",\n",
    "        \"model_number\": \"GS-X\",\n",
    "        \"warranty\": \"1 year\",\n",
    "        \"rating\": 4.9,\n",
    "        \"features\": [\"4K gaming\", \"1TB storage\", \"Backward compatibility\", \"Online multiplayer\"],\n",
    "        \"description\": \"A next-generation gaming console for the ultimate gaming experience.\",\n",
    "        \"price\": 499.99\n",
    "    },\n",
    "    \"ProGamer Controller\": {\n",
    "        \"name\": \"ProGamer Controller\",\n",
    "        \"category\": \"Gaming Consoles and Accessories\",\n",
    "        \"brand\": \"ProGamer\",\n",
    "        \"model_number\": \"PG-C100\",\n",
    "        \"warranty\": \"1 year\",\n",
    "        \"rating\": 4.2,\n",
    "        \"features\": [\"Ergonomic design\", \"Customizable buttons\", \"Wireless\", \"Rechargeable battery\"],\n",
    "        \"description\": \"A high-quality gaming controller for precision and comfort.\",\n",
    "        \"price\": 59.99\n",
    "    },\n",
    "    \"GameSphere Y\": {\n",
    "        \"name\": \"GameSphere Y\",\n",
    "        \"category\": \"Gaming Consoles and Accessories\",\n",
    "        \"brand\": \"GameSphere\",\n",
    "        \"model_number\": \"GS-Y\",\n",
    "        \"warranty\": \"1 year\",\n",
    "        \"rating\": 4.8,\n",
    "        \"features\": [\"4K gaming\", \"500GB storage\", \"Backward compatibility\", \"Online multiplayer\"],\n",
    "        \"description\": \"A compact gaming console with powerful performance.\",\n",
    "        \"price\": 399.99\n",
    "    },\n",
    "    \"ProGamer Racing Wheel\": {\n",
    "        \"name\": \"ProGamer Racing Wheel\",\n",
    "        \"category\": \"Gaming Consoles and Accessories\",\n",
    "        \"brand\": \"ProGamer\",\n",
    "        \"model_number\": \"PG-RW200\",\n",
    "        \"warranty\": \"1 year\",\n",
    "        \"rating\": 4.5,\n",
    "        \"features\": [\"Force feedback\", \"Adjustable pedals\", \"Paddle shifters\", \"Compatible with GameSphere X\"],\n",
    "        \"description\": \"Enhance your racing games with this realistic racing wheel.\",\n",
    "        \"price\": 249.99\n",
    "    },\n",
    "    \"GameSphere VR Headset\": {\n",
    "        \"name\": \"GameSphere VR Headset\",\n",
    "        \"category\": \"Gaming Consoles and Accessories\",\n",
    "        \"brand\": \"GameSphere\",\n",
    "        \"model_number\": \"GS-VR\",\n",
    "        \"warranty\": \"1 year\",\n",
    "        \"rating\": 4.6,\n",
    "        \"features\": [\"Immersive VR experience\", \"Built-in headphones\", \"Adjustable headband\", \"Compatible with GameSphere X\"],\n",
    "        \"description\": \"Step into the world of virtual reality with this comfortable VR headset.\",\n",
    "        \"price\": 299.99\n",
    "    },\n",
    "\n",
    "    \"AudioPhonic Noise-Canceling Headphones\": {\n",
    "        \"name\": \"AudioPhonic Noise-Canceling Headphones\",\n",
    "        \"category\": \"Audio Equipment\",\n",
    "        \"brand\": \"AudioPhonic\",\n",
    "        \"model_number\": \"AP-NC100\",\n",
    "        \"warranty\": \"1 year\",\n",
    "        \"rating\": 4.6,\n",
    "        \"features\": [\"Active noise-canceling\", \"Bluetooth\", \"20-hour battery life\", \"Comfortable fit\"],\n",
    "        \"description\": \"Experience immersive sound with these noise-canceling headphones.\",\n",
    "        \"price\": 199.99\n",
    "    },\n",
    "    \"WaveSound Bluetooth Speaker\": {\n",
    "        \"name\": \"WaveSound Bluetooth Speaker\",\n",
    "        \"category\": \"Audio Equipment\",\n",
    "        \"brand\": \"WaveSound\",\n",
    "        \"model_number\": \"WS-BS50\",\n",
    "        \"warranty\": \"1 year\",\n",
    "        \"rating\": 4.5,\n",
    "        \"features\": [\"Portable\", \"10-hour battery life\", \"Water-resistant\", \"Built-in microphone\"],\n",
    "        \"description\": \"A compact and versatile Bluetooth speaker for music on the go.\",\n",
    "        \"price\": 49.99\n",
    "    },\n",
    "    \"AudioPhonic True Wireless Earbuds\": {\n",
    "        \"name\": \"AudioPhonic True Wireless Earbuds\",\n",
    "        \"category\": \"Audio Equipment\",\n",
    "        \"brand\": \"AudioPhonic\",\n",
    "        \"model_number\": \"AP-TW20\",\n",
    "        \"warranty\": \"1 year\",\n",
    "        \"rating\": 4.4,\n",
    "        \"features\": [\"True wireless\", \"Bluetooth 5.0\", \"Touch controls\", \"18-hour battery life\"],\n",
    "        \"description\": \"Enjoy music without wires with these comfortable true wireless earbuds.\",\n",
    "        \"price\": 79.99\n",
    "    },\n",
    "    \"WaveSound Soundbar\": {\n",
    "        \"name\": \"WaveSound Soundbar\",\n",
    "        \"category\": \"Audio Equipment\",\n",
    "        \"brand\": \"WaveSound\",\n",
    "        \"model_number\": \"WS-SB40\",\n",
    "        \"warranty\": \"1 year\",\n",
    "        \"rating\": 4.3,\n",
    "        \"features\": [\"2.0 channel\", \"80W output\", \"Bluetooth\", \"Wall-mountable\"],\n",
    "        \"description\": \"Upgrade your TV's audio with this slim and powerful soundbar.\",\n",
    "        \"price\": 99.99\n",
    "    },\n",
    "    \"AudioPhonic Turntable\": {\n",
    "        \"name\": \"AudioPhonic Turntable\",\n",
    "        \"category\": \"Audio Equipment\",\n",
    "        \"brand\": \"AudioPhonic\",\n",
    "        \"model_number\": \"AP-TT10\",\n",
    "        \"warranty\": \"1 year\",\n",
    "        \"rating\": 4.2,\n",
    "        \"features\": [\"3-speed\", \"Built-in speakers\", \"Bluetooth\", \"USB recording\"],\n",
    "        \"description\": \"Rediscover your vinyl collection with this modern turntable.\",\n",
    "        \"price\": 149.99\n",
    "    },\n",
    "\n",
    "    \"FotoSnap DSLR Camera\": {\n",
    "        \"name\": \"FotoSnap DSLR Camera\",\n",
    "        \"category\": \"Cameras and Camcorders\",\n",
    "        \"brand\": \"FotoSnap\",\n",
    "        \"model_number\": \"FS-DSLR200\",\n",
    "        \"warranty\": \"1 year\",\n",
    "        \"rating\": 4.7,\n",
    "        \"features\": [\"24.2MP sensor\", \"1080p video\", \"3-inch LCD\", \"Interchangeable lenses\"],\n",
    "        \"description\": \"Capture stunning photos and videos with this versatile DSLR camera.\",\n",
    "        \"price\": 599.99\n",
    "    },\n",
    "    \"ActionCam 4K\": {\n",
    "        \"name\": \"ActionCam 4K\",\n",
    "        \"category\": \"Cameras and Camcorders\",\n",
    "        \"brand\": \"ActionCam\",\n",
    "        \"model_number\": \"AC-4K\",\n",
    "        \"warranty\": \"1 year\",\n",
    "        \"rating\": 4.4,\n",
    "        \"features\": [\"4K video\", \"Waterproof\", \"Image stabilization\", \"Wi-Fi\"],\n",
    "        \"description\": \"Record your adventures with this rugged and compact 4K action camera.\",\n",
    "        \"price\": 299.99\n",
    "    },\n",
    "    \"FotoSnap Mirrorless Camera\": {\n",
    "        \"name\": \"FotoSnap Mirrorless Camera\",\n",
    "        \"category\": \"Cameras and Camcorders\",\n",
    "        \"brand\": \"FotoSnap\",\n",
    "        \"model_number\": \"FS-ML100\",\n",
    "        \"warranty\": \"1 year\",\n",
    "        \"rating\": 4.6,\n",
    "        \"features\": [\"20.1MP sensor\", \"4K video\", \"3-inch touchscreen\", \"Interchangeable lenses\"],\n",
    "        \"description\": \"A compact and lightweight mirrorless camera with advanced features.\",\n",
    "        \"price\": 799.99\n",
    "    },\n",
    "    \"ZoomMaster Camcorder\": {\n",
    "        \"name\": \"ZoomMaster Camcorder\",\n",
    "        \"category\": \"Cameras and Camcorders\",\n",
    "        \"brand\": \"ZoomMaster\",\n",
    "        \"model_number\": \"ZM-CM50\",\n",
    "        \"warranty\": \"1 year\",\n",
    "        \"rating\": 4.3,\n",
    "        \"features\": [\"1080p video\", \"30x optical zoom\", \"3-inch LCD\", \"Image stabilization\"],\n",
    "        \"description\": \"Capture life's moments with this easy-to-use camcorder.\",\n",
    "        \"price\": 249.99\n",
    "    },\n",
    "    \"FotoSnap Instant Camera\": {\n",
    "        \"name\": \"FotoSnap Instant Camera\",\n",
    "        \"category\": \"Cameras and Camcorders\",\n",
    "        \"brand\": \"FotoSnap\",\n",
    "        \"model_number\": \"FS-IC10\",\n",
    "        \"warranty\": \"1 year\",\n",
    "        \"rating\": 4.1,\n",
    "        \"features\": [\"Instant prints\", \"Built-in flash\", \"Selfie mirror\", \"Battery-powered\"],\n",
    "        \"description\": \"Create instant memories with this fun and portable instant camera.\",\n",
    "        \"price\": 69.99\n",
    "    }\n",
    "}"
   ]
  },
  {
   "cell_type": "code",
   "execution_count": 55,
   "id": "208dcebe-e2b6-4882-9c8b-83f0471077f3",
   "metadata": {},
   "outputs": [],
   "source": [
    "def get_product_by_name(name):\n",
    "    return products.get(name, None)\n",
    "def get_product_by_category(category):\n",
    "    return [product for product in products.values() if product[\"category\"] == category]\n",
    "    "
   ]
  },
  {
   "cell_type": "code",
   "execution_count": 57,
   "id": "074eaa9f-a05d-4a35-9fb8-22ed76efc1b5",
   "metadata": {},
   "outputs": [
    {
     "name": "stdout",
     "output_type": "stream",
     "text": [
      "{'name': 'FotoSnap Instant Camera', 'category': 'Cameras and Camcorders', 'brand': 'FotoSnap', 'model_number': 'FS-IC10', 'warranty': '1 year', 'rating': 4.1, 'features': ['Instant prints', 'Built-in flash', 'Selfie mirror', 'Battery-powered'], 'description': 'Create instant memories with this fun and portable instant camera.', 'price': 69.99}\n",
      "[{'name': 'FotoSnap DSLR Camera', 'category': 'Cameras and Camcorders', 'brand': 'FotoSnap', 'model_number': 'FS-DSLR200', 'warranty': '1 year', 'rating': 4.7, 'features': ['24.2MP sensor', '1080p video', '3-inch LCD', 'Interchangeable lenses'], 'description': 'Capture stunning photos and videos with this versatile DSLR camera.', 'price': 599.99}, {'name': 'ActionCam 4K', 'category': 'Cameras and Camcorders', 'brand': 'ActionCam', 'model_number': 'AC-4K', 'warranty': '1 year', 'rating': 4.4, 'features': ['4K video', 'Waterproof', 'Image stabilization', 'Wi-Fi'], 'description': 'Record your adventures with this rugged and compact 4K action camera.', 'price': 299.99}, {'name': 'FotoSnap Mirrorless Camera', 'category': 'Cameras and Camcorders', 'brand': 'FotoSnap', 'model_number': 'FS-ML100', 'warranty': '1 year', 'rating': 4.6, 'features': ['20.1MP sensor', '4K video', '3-inch touchscreen', 'Interchangeable lenses'], 'description': 'A compact and lightweight mirrorless camera with advanced features.', 'price': 799.99}, {'name': 'ZoomMaster Camcorder', 'category': 'Cameras and Camcorders', 'brand': 'ZoomMaster', 'model_number': 'ZM-CM50', 'warranty': '1 year', 'rating': 4.3, 'features': ['1080p video', '30x optical zoom', '3-inch LCD', 'Image stabilization'], 'description': \"Capture life's moments with this easy-to-use camcorder.\", 'price': 249.99}, {'name': 'FotoSnap Instant Camera', 'category': 'Cameras and Camcorders', 'brand': 'FotoSnap', 'model_number': 'FS-IC10', 'warranty': '1 year', 'rating': 4.1, 'features': ['Instant prints', 'Built-in flash', 'Selfie mirror', 'Battery-powered'], 'description': 'Create instant memories with this fun and portable instant camera.', 'price': 69.99}]\n"
     ]
    }
   ],
   "source": [
    "print(get_product_by_name(\"FotoSnap Instant Camera\"))\n",
    "print(get_product_by_category(\"Cameras and Camcorders\"))"
   ]
  },
  {
   "cell_type": "code",
   "execution_count": 59,
   "id": "2d879346-e81c-4fab-9c37-3c9177307bb2",
   "metadata": {},
   "outputs": [
    {
     "name": "stdout",
     "output_type": "stream",
     "text": [
      "[{'name': 'FotoSnap DSLR Camera', 'category': 'Cameras and Camcorders', 'brand': 'FotoSnap', 'model_number': 'FS-DSLR200', 'warranty': '1 year', 'rating': 4.7, 'features': ['24.2MP sensor', '1080p video', '3-inch LCD', 'Interchangeable lenses'], 'description': 'Capture stunning photos and videos with this versatile DSLR camera.', 'price': 599.99}, {'name': 'ActionCam 4K', 'category': 'Cameras and Camcorders', 'brand': 'ActionCam', 'model_number': 'AC-4K', 'warranty': '1 year', 'rating': 4.4, 'features': ['4K video', 'Waterproof', 'Image stabilization', 'Wi-Fi'], 'description': 'Record your adventures with this rugged and compact 4K action camera.', 'price': 299.99}, {'name': 'FotoSnap Mirrorless Camera', 'category': 'Cameras and Camcorders', 'brand': 'FotoSnap', 'model_number': 'FS-ML100', 'warranty': '1 year', 'rating': 4.6, 'features': ['20.1MP sensor', '4K video', '3-inch touchscreen', 'Interchangeable lenses'], 'description': 'A compact and lightweight mirrorless camera with advanced features.', 'price': 799.99}, {'name': 'ZoomMaster Camcorder', 'category': 'Cameras and Camcorders', 'brand': 'ZoomMaster', 'model_number': 'ZM-CM50', 'warranty': '1 year', 'rating': 4.3, 'features': ['1080p video', '30x optical zoom', '3-inch LCD', 'Image stabilization'], 'description': \"Capture life's moments with this easy-to-use camcorder.\", 'price': 249.99}, {'name': 'FotoSnap Instant Camera', 'category': 'Cameras and Camcorders', 'brand': 'FotoSnap', 'model_number': 'FS-IC10', 'warranty': '1 year', 'rating': 4.1, 'features': ['Instant prints', 'Built-in flash', 'Selfie mirror', 'Battery-powered'], 'description': 'Create instant memories with this fun and portable instant camera.', 'price': 69.99}]\n"
     ]
    }
   ],
   "source": [
    "print(get_product_by_category(\"Cameras and Camcorders\"))"
   ]
  },
  {
   "cell_type": "code",
   "execution_count": 61,
   "id": "f0053a76-d0ac-4bb1-8e39-2306b60129ba",
   "metadata": {},
   "outputs": [],
   "source": [
    "def get_product_by_brand(brand):\n",
    "    return [product for product in products.values() if product[\"brand\"] == brand]\n"
   ]
  },
  {
   "cell_type": "code",
   "execution_count": 63,
   "id": "a1e8aa25-0f93-4346-a6df-a37428e75932",
   "metadata": {},
   "outputs": [
    {
     "name": "stdout",
     "output_type": "stream",
     "text": [
      "[]\n"
     ]
    }
   ],
   "source": [
    "print(get_product_by_brand(\"Cameras and Camcorders\"))"
   ]
  },
  {
   "cell_type": "code",
   "execution_count": 65,
   "id": "8747ee2b-a2e4-47a5-aac6-11f79246a383",
   "metadata": {},
   "outputs": [],
   "source": [
    "def get_product_by_brand(brand):\n",
    "    matching_products = [product for product in products.values() if product[\"brand\"] == brand]\n",
    "    if not matching_products:\n",
    "        return f\"No products found for the brand: {brand}\"\n",
    "    return matching_products"
   ]
  },
  {
   "cell_type": "code",
   "execution_count": 67,
   "id": "38221e9b-0c45-42ca-b122-3ca1a3bfc564",
   "metadata": {},
   "outputs": [
    {
     "name": "stdout",
     "output_type": "stream",
     "text": [
      "No products found for the brand: Cameras and Camcorders\n"
     ]
    }
   ],
   "source": [
    "print(get_product_by_brand(\"Cameras and Camcorders\"))"
   ]
  },
  {
   "cell_type": "code",
   "execution_count": 71,
   "id": "8816e69c-f775-42b5-8dcf-145c8541e23f",
   "metadata": {},
   "outputs": [
    {
     "name": "stdout",
     "output_type": "stream",
     "text": [
      "[{'name': 'FotoSnap DSLR Camera', 'category': 'Cameras and Camcorders', 'brand': 'FotoSnap', 'model_number': 'FS-DSLR200', 'warranty': '1 year', 'rating': 4.7, 'features': ['24.2MP sensor', '1080p video', '3-inch LCD', 'Interchangeable lenses'], 'description': 'Capture stunning photos and videos with this versatile DSLR camera.', 'price': 599.99}, {'name': 'FotoSnap Mirrorless Camera', 'category': 'Cameras and Camcorders', 'brand': 'FotoSnap', 'model_number': 'FS-ML100', 'warranty': '1 year', 'rating': 4.6, 'features': ['20.1MP sensor', '4K video', '3-inch touchscreen', 'Interchangeable lenses'], 'description': 'A compact and lightweight mirrorless camera with advanced features.', 'price': 799.99}, {'name': 'FotoSnap Instant Camera', 'category': 'Cameras and Camcorders', 'brand': 'FotoSnap', 'model_number': 'FS-IC10', 'warranty': '1 year', 'rating': 4.1, 'features': ['Instant prints', 'Built-in flash', 'Selfie mirror', 'Battery-powered'], 'description': 'Create instant memories with this fun and portable instant camera.', 'price': 69.99}]\n"
     ]
    }
   ],
   "source": [
    "print(get_product_by_brand(\"FotoSnap\"))"
   ]
  },
  {
   "cell_type": "code",
   "execution_count": 73,
   "id": "49f3d57d-2bda-469d-a48b-42f9e0cd192c",
   "metadata": {},
   "outputs": [
    {
     "name": "stdout",
     "output_type": "stream",
     "text": [
      "{'name': 'TechPro Ultrabook', 'category': 'Computers and Laptops', 'brand': 'TechPro', 'model_number': 'TP-UB100', 'warranty': '1 year', 'rating': 4.5, 'features': ['13.3-inch display', '8GB RAM', '256GB SSD', 'Intel Core i5 processor'], 'description': 'A sleek and lightweight ultrabook for everyday use.', 'price': 799.99}\n"
     ]
    }
   ],
   "source": [
    "print(get_product_by_name(\"TechPro Ultrabook\"))"
   ]
  },
  {
   "cell_type": "code",
   "execution_count": 75,
   "id": "94e500d1-bb90-4253-8a73-f1e68801832b",
   "metadata": {},
   "outputs": [
    {
     "name": "stdout",
     "output_type": "stream",
     "text": [
      "[{'name': 'TechPro Ultrabook', 'category': 'Computers and Laptops', 'brand': 'TechPro', 'model_number': 'TP-UB100', 'warranty': '1 year', 'rating': 4.5, 'features': ['13.3-inch display', '8GB RAM', '256GB SSD', 'Intel Core i5 processor'], 'description': 'A sleek and lightweight ultrabook for everyday use.', 'price': 799.99}, {'name': 'BlueWave Gaming Laptop', 'category': 'Computers and Laptops', 'brand': 'BlueWave', 'model_number': 'BW-GL200', 'warranty': '2 years', 'rating': 4.7, 'features': ['15.6-inch display', '16GB RAM', '512GB SSD', 'NVIDIA GeForce RTX 3060'], 'description': 'A high-performance gaming laptop for an immersive experience.', 'price': 1199.99}, {'name': 'PowerLite Convertible', 'category': 'Computers and Laptops', 'brand': 'PowerLite', 'model_number': 'PL-CV300', 'warranty': '1 year', 'rating': 4.3, 'features': ['14-inch touchscreen', '8GB RAM', '256GB SSD', '360-degree hinge'], 'description': 'A versatile convertible laptop with a responsive touchscreen.', 'price': 699.99}, {'name': 'TechPro Desktop', 'category': 'Computers and Laptops', 'brand': 'TechPro', 'model_number': 'TP-DT500', 'warranty': '1 year', 'rating': 4.4, 'features': ['Intel Core i7 processor', '16GB RAM', '1TB HDD', 'NVIDIA GeForce GTX 1660'], 'description': 'A powerful desktop computer for work and play.', 'price': 999.99}, {'name': 'BlueWave Chromebook', 'category': 'Computers and Laptops', 'brand': 'BlueWave', 'model_number': 'BW-CB100', 'warranty': '1 year', 'rating': 4.1, 'features': ['11.6-inch display', '4GB RAM', '32GB eMMC', 'Chrome OS'], 'description': 'A compact and affordable Chromebook for everyday tasks.', 'price': 249.99}]\n"
     ]
    }
   ],
   "source": [
    "print(get_products_by_category(\"Computers and Laptops\"))"
   ]
  },
  {
   "cell_type": "code",
   "execution_count": 77,
   "id": "6f84ba6b-08d9-4035-a636-114cf16a50d4",
   "metadata": {},
   "outputs": [
    {
     "name": "stdout",
     "output_type": "stream",
     "text": [
      "\n",
      " tell me about the AudioPhonic True Wireless Earbuds and  the ZoomMaster Camcorder.  Also tell me about your tvs \n"
     ]
    }
   ],
   "source": [
    "print(user_message_1)"
   ]
  },
  {
   "cell_type": "code",
   "execution_count": 79,
   "id": "810a4568-e594-4c2d-b157-b7aac756c9fd",
   "metadata": {},
   "outputs": [
    {
     "name": "stdout",
     "output_type": "stream",
     "text": [
      "[\n",
      "    {'category': 'Televisions and Home Theater Systems'},\n",
      "    {'products': ['AudioPhonic True Wireless Earbuds', 'ZoomMaster Camcorder']}\n",
      "]\n"
     ]
    }
   ],
   "source": [
    "print(category_and_product_response_1)"
   ]
  },
  {
   "cell_type": "markdown",
   "id": "6624ec8e-09d2-42da-8953-e9231052fd65",
   "metadata": {},
   "source": [
    "***Read Python string into Python list of dictionaries***"
   ]
  },
  {
   "cell_type": "code",
   "execution_count": 82,
   "id": "33b75866-0f63-49fa-98b6-8fb411997233",
   "metadata": {},
   "outputs": [],
   "source": [
    "import json \n",
    "\n",
    "def read_string_to_list(input_string):\n",
    "    if input_string is None:\n",
    "        return None\n",
    "\n",
    "    try:\n",
    "        input_string = input_string.replace(\"'\", \"\\\"\")  # Replace single quotes with double quotes for valid JSON\n",
    "        data = json.loads(input_string)\n",
    "        return data\n",
    "    except json.JSONDecodeError:\n",
    "        print(\"Error: Invalid JSON string\")\n",
    "        return None   \n",
    "    "
   ]
  },
  {
   "cell_type": "code",
   "execution_count": 84,
   "id": "1f202aae-f70a-475d-8d1c-77dfca723a95",
   "metadata": {},
   "outputs": [
    {
     "name": "stdout",
     "output_type": "stream",
     "text": [
      "[{'category': 'Televisions and Home Theater Systems'}, {'products': ['AudioPhonic True Wireless Earbuds', 'ZoomMaster Camcorder']}]\n"
     ]
    }
   ],
   "source": [
    "category_and_product_list = read_string_to_list(category_and_product_response_1)\n",
    "print(category_and_product_list)"
   ]
  },
  {
   "cell_type": "code",
   "execution_count": 88,
   "id": "956e25d9-6ba6-47f7-9dc9-b8029c2ac583",
   "metadata": {},
   "outputs": [
    {
     "name": "stdout",
     "output_type": "stream",
     "text": [
      "[{'category': 'Televisions and Home Theater Systems'}, {'products': ['AudioPhonic True Wireless Earbuds', 'ZoomMaster Camcorder']}]\n"
     ]
    }
   ],
   "source": [
    "print(category_and_product_list)"
   ]
  },
  {
   "cell_type": "code",
   "execution_count": 90,
   "id": "ef508fc3-d519-4b1a-9b30-bcd8da5431bd",
   "metadata": {},
   "outputs": [],
   "source": [
    "def generate_output_string(data_list):\n",
    "    output_string = \"\"\n",
    "\n",
    "    if data_list is None:\n",
    "        return output_string\n",
    "\n",
    "    for data in data_list:\n",
    "        try:\n",
    "            if \"products\" in data:\n",
    "                products_list = data[\"products\"]\n",
    "                for product_name in products_list:\n",
    "                    product = get_product_by_name(product_name)\n",
    "                    if product:\n",
    "                        output_string += json.dumps(product, indent=4) + \"\\n\"\n",
    "                    else:\n",
    "                        print(f\"Error: Product '{product_name}' not found\")\n",
    "            elif \"category\" in data:\n",
    "                category_name = data[\"category\"]\n",
    "                category_products = get_products_by_category(category_name)\n",
    "                for product in category_products:\n",
    "                    output_string += json.dumps(product, indent=4) + \"\\n\"\n",
    "            else:\n",
    "                print(\"Error: Invalid object format\")\n",
    "        except Exception as e:\n",
    "            print(f\"Error: {e}\")\n",
    "\n",
    "    return output_string "
   ]
  },
  {
   "cell_type": "code",
   "execution_count": 92,
   "id": "9bd47a66-bd25-4b25-b958-97bd1da01989",
   "metadata": {},
   "outputs": [
    {
     "name": "stdout",
     "output_type": "stream",
     "text": [
      "{\n",
      "    \"name\": \"CineView 4K TV\",\n",
      "    \"category\": \"Televisions and Home Theater Systems\",\n",
      "    \"brand\": \"CineView\",\n",
      "    \"model_number\": \"CV-4K55\",\n",
      "    \"warranty\": \"2 years\",\n",
      "    \"rating\": 4.8,\n",
      "    \"features\": [\n",
      "        \"55-inch display\",\n",
      "        \"4K resolution\",\n",
      "        \"HDR\",\n",
      "        \"Smart TV\"\n",
      "    ],\n",
      "    \"description\": \"A stunning 4K TV with vibrant colors and smart features.\",\n",
      "    \"price\": 599.99\n",
      "}\n",
      "{\n",
      "    \"name\": \"SoundMax Home Theater\",\n",
      "    \"category\": \"Televisions and Home Theater Systems\",\n",
      "    \"brand\": \"SoundMax\",\n",
      "    \"model_number\": \"SM-HT100\",\n",
      "    \"warranty\": \"1 year\",\n",
      "    \"rating\": 4.4,\n",
      "    \"features\": [\n",
      "        \"5.1 channel\",\n",
      "        \"1000W output\",\n",
      "        \"Wireless subwoofer\",\n",
      "        \"Bluetooth\"\n",
      "    ],\n",
      "    \"description\": \"A powerful home theater system for an immersive audio experience.\",\n",
      "    \"price\": 399.99\n",
      "}\n",
      "{\n",
      "    \"name\": \"CineView 8K TV\",\n",
      "    \"category\": \"Televisions and Home Theater Systems\",\n",
      "    \"brand\": \"CineView\",\n",
      "    \"model_number\": \"CV-8K65\",\n",
      "    \"warranty\": \"2 years\",\n",
      "    \"rating\": 4.9,\n",
      "    \"features\": [\n",
      "        \"65-inch display\",\n",
      "        \"8K resolution\",\n",
      "        \"HDR\",\n",
      "        \"Smart TV\"\n",
      "    ],\n",
      "    \"description\": \"Experience the future of television with this stunning 8K TV.\",\n",
      "    \"price\": 2999.99\n",
      "}\n",
      "{\n",
      "    \"name\": \"SoundMax Soundbar\",\n",
      "    \"category\": \"Televisions and Home Theater Systems\",\n",
      "    \"brand\": \"SoundMax\",\n",
      "    \"model_number\": \"SM-SB50\",\n",
      "    \"warranty\": \"1 year\",\n",
      "    \"rating\": 4.3,\n",
      "    \"features\": [\n",
      "        \"2.1 channel\",\n",
      "        \"300W output\",\n",
      "        \"Wireless subwoofer\",\n",
      "        \"Bluetooth\"\n",
      "    ],\n",
      "    \"description\": \"Upgrade your TV's audio with this sleek and powerful soundbar.\",\n",
      "    \"price\": 199.99\n",
      "}\n",
      "{\n",
      "    \"name\": \"CineView OLED TV\",\n",
      "    \"category\": \"Televisions and Home Theater Systems\",\n",
      "    \"brand\": \"CineView\",\n",
      "    \"model_number\": \"CV-OLED55\",\n",
      "    \"warranty\": \"2 years\",\n",
      "    \"rating\": 4.7,\n",
      "    \"features\": [\n",
      "        \"55-inch display\",\n",
      "        \"4K resolution\",\n",
      "        \"HDR\",\n",
      "        \"Smart TV\"\n",
      "    ],\n",
      "    \"description\": \"Experience true blacks and vibrant colors with this OLED TV.\",\n",
      "    \"price\": 1499.99\n",
      "}\n",
      "{\n",
      "    \"name\": \"AudioPhonic True Wireless Earbuds\",\n",
      "    \"category\": \"Audio Equipment\",\n",
      "    \"brand\": \"AudioPhonic\",\n",
      "    \"model_number\": \"AP-TW20\",\n",
      "    \"warranty\": \"1 year\",\n",
      "    \"rating\": 4.4,\n",
      "    \"features\": [\n",
      "        \"True wireless\",\n",
      "        \"Bluetooth 5.0\",\n",
      "        \"Touch controls\",\n",
      "        \"18-hour battery life\"\n",
      "    ],\n",
      "    \"description\": \"Enjoy music without wires with these comfortable true wireless earbuds.\",\n",
      "    \"price\": 79.99\n",
      "}\n",
      "{\n",
      "    \"name\": \"ZoomMaster Camcorder\",\n",
      "    \"category\": \"Cameras and Camcorders\",\n",
      "    \"brand\": \"ZoomMaster\",\n",
      "    \"model_number\": \"ZM-CM50\",\n",
      "    \"warranty\": \"1 year\",\n",
      "    \"rating\": 4.3,\n",
      "    \"features\": [\n",
      "        \"1080p video\",\n",
      "        \"30x optical zoom\",\n",
      "        \"3-inch LCD\",\n",
      "        \"Image stabilization\"\n",
      "    ],\n",
      "    \"description\": \"Capture life's moments with this easy-to-use camcorder.\",\n",
      "    \"price\": 249.99\n",
      "}\n",
      "\n"
     ]
    }
   ],
   "source": [
    "product_information_for_user_message_1 = generate_output_string(category_and_product_list)\n",
    "print(product_information_for_user_message_1)"
   ]
  },
  {
   "cell_type": "code",
   "execution_count": 94,
   "id": "e2508181-38bb-4e33-a022-dbe5ac8bb187",
   "metadata": {},
   "outputs": [
    {
     "name": "stdout",
     "output_type": "stream",
     "text": [
      "The SmartX Pro phone and Fotosnap DSLR camera are not available in our current product catalog. However, we have a variety of TVs including the CineView 4K TV, CineView 8K TV, and CineView OLED TV. Can you provide more details about the features you are looking for in a phone and camera, or specific requirements for a TV?\n"
     ]
    }
   ],
   "source": [
    "system_message = f\"\"\"\n",
    "You are a customer service assistant for a \\\n",
    "large electronic store. \\\n",
    "Respond in a friendly and helpful tone, \\\n",
    "with very concise answers. \\\n",
    "Make sure to ask the user relevant follow up questions.\n",
    "\"\"\"\n",
    "user_message_1 = f\"\"\"\n",
    "tell me about the smartx pro phone and \\\n",
    "the fotosnap camera, the dslr one. \\\n",
    "Also tell me about your tvs\"\"\"\n",
    "messages =  [  \n",
    "{'role':'system',\n",
    " 'content': system_message},   \n",
    "{'role':'user',\n",
    " 'content': user_message_1},  \n",
    "{'role':'assistant',\n",
    " 'content': f\"\"\"Relevant product information:\\n\\\n",
    " {product_information_for_user_message_1}\"\"\"},   \n",
    "]\n",
    "final_response = get_completion_from_messages(messages)\n",
    "print(final_response)"
   ]
  },
  {
   "cell_type": "code",
   "execution_count": null,
   "id": "3799cf3d-eee0-4375-bb76-14d521de515c",
   "metadata": {},
   "outputs": [],
   "source": []
  }
 ],
 "metadata": {
  "kernelspec": {
   "display_name": "Python 3 (ipykernel)",
   "language": "python",
   "name": "python3"
  },
  "language_info": {
   "codemirror_mode": {
    "name": "ipython",
    "version": 3
   },
   "file_extension": ".py",
   "mimetype": "text/x-python",
   "name": "python",
   "nbconvert_exporter": "python",
   "pygments_lexer": "ipython3",
   "version": "3.12.4"
  }
 },
 "nbformat": 4,
 "nbformat_minor": 5
}
