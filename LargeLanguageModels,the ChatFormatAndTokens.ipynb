{
 "cells": [
  {
   "cell_type": "code",
   "execution_count": 5,
   "id": "4e02f191-33e5-43cf-91d2-e1bd76095148",
   "metadata": {},
   "outputs": [
    {
     "name": "stdout",
     "output_type": "stream",
     "text": [
      "Collecting tiktoken\n",
      "  Downloading tiktoken-0.7.0-cp312-cp312-win_amd64.whl.metadata (6.8 kB)\n",
      "Requirement already satisfied: regex>=2022.1.18 in c:\\users\\nairvis\\appdata\\local\\anaconda3\\lib\\site-packages (from tiktoken) (2023.10.3)\n",
      "Requirement already satisfied: requests>=2.26.0 in c:\\users\\nairvis\\appdata\\local\\anaconda3\\lib\\site-packages (from tiktoken) (2.32.2)\n",
      "Requirement already satisfied: charset-normalizer<4,>=2 in c:\\users\\nairvis\\appdata\\local\\anaconda3\\lib\\site-packages (from requests>=2.26.0->tiktoken) (2.0.4)\n",
      "Requirement already satisfied: idna<4,>=2.5 in c:\\users\\nairvis\\appdata\\local\\anaconda3\\lib\\site-packages (from requests>=2.26.0->tiktoken) (3.7)\n",
      "Requirement already satisfied: urllib3<3,>=1.21.1 in c:\\users\\nairvis\\appdata\\local\\anaconda3\\lib\\site-packages (from requests>=2.26.0->tiktoken) (2.2.2)\n",
      "Requirement already satisfied: certifi>=2017.4.17 in c:\\users\\nairvis\\appdata\\local\\anaconda3\\lib\\site-packages (from requests>=2.26.0->tiktoken) (2024.7.4)\n",
      "Downloading tiktoken-0.7.0-cp312-cp312-win_amd64.whl (799 kB)\n",
      "   ---------------------------------------- 0.0/799.3 kB ? eta -:--:--\n",
      "   ----------------- --------------------- 358.4/799.3 kB 11.2 MB/s eta 0:00:01\n",
      "   --------------------------------------  798.7/799.3 kB 10.1 MB/s eta 0:00:01\n",
      "   ---------------------------------------- 799.3/799.3 kB 8.5 MB/s eta 0:00:00\n",
      "Installing collected packages: tiktoken\n",
      "Successfully installed tiktoken-0.7.0\n"
     ]
    }
   ],
   "source": [
    "!pip install tiktoken"
   ]
  },
  {
   "cell_type": "code",
   "execution_count": 7,
   "id": "bd3ec746-dd5a-4db6-88c5-b3f38dfedad8",
   "metadata": {},
   "outputs": [],
   "source": [
    "import os\n",
    "import openai\n",
    "import tiktoken\n",
    "from dotenv import load_dotenv, find_dotenv\n",
    "_ = load_dotenv(find_dotenv()) # read local .env file\n",
    "\n",
    "openai.api_key  = os.environ['OPENAI_API_KEY']"
   ]
  },
  {
   "cell_type": "code",
   "execution_count": 9,
   "id": "36a5e357-a545-4ea1-8881-82b7a8588d44",
   "metadata": {},
   "outputs": [],
   "source": [
    "client = openai.OpenAI()\n",
    "\n",
    "def get_completion(prompt, model=\"gpt-3.5-turbo\"):\n",
    "    messages = [{\"role\": \"user\", \"content\": prompt}]\n",
    "    response = client.chat.completions.create(\n",
    "        model=model,\n",
    "        messages=messages,\n",
    "        temperature=0\n",
    "    )\n",
    "    return response.choices[0].message.content"
   ]
  },
  {
   "cell_type": "code",
   "execution_count": 13,
   "id": "2a9037ea-a453-4559-b628-46217b3fbe4a",
   "metadata": {},
   "outputs": [
    {
     "name": "stdout",
     "output_type": "stream",
     "text": [
      "The capital of France is Paris.\n"
     ]
    }
   ],
   "source": [
    "response = get_completion(\"What is the capital of France?\")\n",
    "print(response)"
   ]
  },
  {
   "attachments": {},
   "cell_type": "markdown",
   "id": "fe2585fa-dccd-4331-8034-a9f38ad2849f",
   "metadata": {},
   "source": [
    "response = get_completion(\"What is the capital of Lebanon?\")\n",
    "print(response)"
   ]
  },
  {
   "cell_type": "code",
   "execution_count": 22,
   "id": "e4d16c43-d322-4bbc-9a72-2ccdd386db80",
   "metadata": {},
   "outputs": [
    {
     "name": "stdout",
     "output_type": "stream",
     "text": [
      "The currency of France is the Euro (€).\n"
     ]
    }
   ],
   "source": [
    "response = get_completion(\"What is the currency of France\")\n",
    "print(response)"
   ]
  },
  {
   "cell_type": "code",
   "execution_count": 24,
   "id": "c72bc39a-a822-4a5d-9538-353aaffb8276",
   "metadata": {},
   "outputs": [
    {
     "name": "stdout",
     "output_type": "stream",
     "text": [
      "The currency of Lebanon is the Lebanese Pound (LBP).\n"
     ]
    }
   ],
   "source": [
    "response = get_completion(\"What is the currency of Lebanon\")\n",
    "print(response)"
   ]
  },
  {
   "cell_type": "code",
   "execution_count": 26,
   "id": "45052651-42a9-4fbf-9000-3d326c4509b3",
   "metadata": {},
   "outputs": [
    {
     "name": "stdout",
     "output_type": "stream",
     "text": [
      "As of September 2021, the conversion rate of Lebanese Pound (LBP) to US Dollar (USD) is approximately 15,000 LBP to 1 USD. However, it is important to note that the exchange rate in Lebanon is highly volatile due to the economic crisis in the country.\n"
     ]
    }
   ],
   "source": [
    "response = get_completion(\"What is the conversion rate of Lebanese Pound to $\")\n",
    "print(response)"
   ]
  },
  {
   "cell_type": "code",
   "execution_count": 28,
   "id": "e2edad09-08c8-4c57-bcea-fa3cff796b9e",
   "metadata": {},
   "outputs": [
    {
     "name": "stdout",
     "output_type": "stream",
     "text": [
      "Fixed income securities are investment products that pay a fixed interest or dividend income to investors. These securities include bonds, certificates of deposit (CDs), preferred stocks, and other debt instruments. The issuer of the security promises to pay a fixed amount of interest or dividend at regular intervals until the security matures. Fixed income securities are considered less risky than stocks because they provide a predictable income stream, but they also typically offer lower returns.\n"
     ]
    }
   ],
   "source": [
    "response = get_completion(\"What are fixed imcome securities?\")\n",
    "print(response)"
   ]
  },
  {
   "cell_type": "code",
   "execution_count": 34,
   "id": "e7b96621-a533-4bd8-ac6b-5d945fdacfaf",
   "metadata": {},
   "outputs": [
    {
     "name": "stdout",
     "output_type": "stream",
     "text": [
      "?esiruces emocni dexiF\n"
     ]
    }
   ],
   "source": [
    "response = get_completion(\"Take the letters in 'Fixed income securities?' and reverse them\")\n",
    "print(response)"
   ]
  },
  {
   "cell_type": "code",
   "execution_count": 36,
   "id": "09f591bb-29ab-4cf5-9e70-02256c6ed6b8",
   "metadata": {},
   "outputs": [
    {
     "name": "stdout",
     "output_type": "stream",
     "text": [
      "Fidec inmoces se?\n"
     ]
    }
   ],
   "source": [
    "response = get_completion(\"Take the letters in '?esiruces emocni dexiF' and reverse them\")\n",
    "print(response)"
   ]
  },
  {
   "cell_type": "code",
   "execution_count": 40,
   "id": "e52a3f99-3464-4ca3-86a1-489a92351aa6",
   "metadata": {},
   "outputs": [
    {
     "name": "stdout",
     "output_type": "stream",
     "text": [
      "s-e-i-t-i-r-u-c-e-s-e-m-o-c-n-i-d-e-x-i-F\n"
     ]
    }
   ],
   "source": [
    "response = get_completion(\"Take the letters in 'F-i-x-e-d-i-n-c-o-m-e-s-e-c-u-r-i-t-i-e-s' and reverse them\")\n",
    "print(response)"
   ]
  },
  {
   "cell_type": "markdown",
   "id": "f9862ac3-d058-4c7e-aa58-cd17cf3a8567",
   "metadata": {},
   "source": [
    "If you pass the word Lollipop with dashes in between the letters, it tokenizes each of these characters into an individual token making it easier for it to see the individual letters and print them out in reverse order."
   ]
  },
  {
   "cell_type": "code",
   "execution_count": 53,
   "id": "b0a963b6-f14a-4016-b335-be538f1e68c7",
   "metadata": {},
   "outputs": [],
   "source": [
    "def get_completion_from_messages(messages, model=\"gpt-3.5-turbo\",temperature=0,max_tokens=500):\n",
    "    response = client.chat.completions.create(\n",
    "        model=model,\n",
    "        messages=messages,\n",
    "        temperature=temperature,\n",
    "        max_tokens=max_tokens,\n",
    "    )\n",
    "    return response.choices[0].message.content\n"
   ]
  },
  {
   "cell_type": "code",
   "execution_count": 55,
   "id": "011abf05-18f1-44c4-bbff-266f99c10690",
   "metadata": {},
   "outputs": [
    {
     "name": "stdout",
     "output_type": "stream",
     "text": [
      "Oh, the carrot so bright and orange, \n",
      "Happier than a picnic at a gorge. \n",
      "In the garden, it dances with cheer, \n",
      "Bringing joy to all who are near. \n",
      "With a smile so wide, it shines like a star, \n",
      "Happy carrot, you're our favorite veggie by far!\n"
     ]
    }
   ],
   "source": [
    "messages =  [  \n",
    "{'role':'system', \n",
    " 'content':\"\"\"You are an assistant who\\\n",
    " responds in the style of Dr Seuss.\"\"\"},    \n",
    "{'role':'user', \n",
    " 'content':\"\"\"write me a very short poem\\\n",
    " about a happy carrot\"\"\"},  \n",
    "] \n",
    "response = get_completion_from_messages(messages, temperature=1)\n",
    "print(response)"
   ]
  },
  {
   "cell_type": "code",
   "execution_count": 59,
   "id": "030a8c39-1522-495e-9459-fbdc8ca566cb",
   "metadata": {},
   "outputs": [
    {
     "name": "stdout",
     "output_type": "stream",
     "text": [
      "Certainly! The NASDAQ (National Association of Securities Dealers Automated Quotations) is an American stock exchange that focuses on technology and growth companies. It is known for being highly automated and for trading primarily in electronic format. NASDAQ was founded in 1971 and has become one of the largest stock exchanges in the world by market capitalization.\n"
     ]
    }
   ],
   "source": [
    "messages =  [  \n",
    "{'role':'system', \n",
    " 'content':\"\"\"You are an assistant who\\\n",
    " responds in the style of a Professor.\"\"\"},    \n",
    "{'role':'user', \n",
    " 'content':\"\"\"write me a very short notes\\\n",
    " about NASDAQ\"\"\"},  \n",
    "] \n",
    "response = get_completion_from_messages(messages, temperature=1)\n",
    "print(response)"
   ]
  },
  {
   "cell_type": "code",
   "execution_count": 61,
   "id": "ba640b8f-96a5-4b90-a098-df348096d1db",
   "metadata": {},
   "outputs": [
    {
     "name": "stdout",
     "output_type": "stream",
     "text": [
      "High Frequency Trading (HFT) refers to a type of trading strategy that uses complex algorithms to execute a large number of trades in milliseconds. It relies heavily on high-speed data connections, co-location services, and advanced computer systems to capitalize on small price discrepancies across various markets. HFT has been a subject of debate due to concerns about market manipulation, potential systemic risks, and its impact on market quality and fairness.\n"
     ]
    }
   ],
   "source": [
    "messages =  [  \n",
    "{'role':'system', \n",
    " 'content':\"\"\"You are an assistant who\\\n",
    " responds in the style of a Professor.\"\"\"},    \n",
    "{'role':'user', \n",
    " 'content':\"\"\"write me a very short notes\\\n",
    " about High Frequency Trading\"\"\"},  \n",
    "] \n",
    "response = get_completion_from_messages(messages, temperature=1)\n",
    "print(response)"
   ]
  },
  {
   "cell_type": "code",
   "execution_count": 63,
   "id": "2a168634-da32-4902-9848-1a2620ce14f2",
   "metadata": {},
   "outputs": [
    {
     "name": "stdout",
     "output_type": "stream",
     "text": [
      "Once upon a time, a cheerful carrot named Charlie grew so big that he won first place at the vegetable fair, bringing joy to all who saw him.\n"
     ]
    }
   ],
   "source": [
    "messages =  [  \n",
    "{'role':'system',\n",
    " 'content':'All your responses must be \\\n",
    "one sentence long.'},    \n",
    "{'role':'user',\n",
    " 'content':'write me a story about a happy carrot'},  \n",
    "] \n",
    "response = get_completion_from_messages(messages, temperature =1)\n",
    "print(response)"
   ]
  },
  {
   "cell_type": "code",
   "execution_count": 65,
   "id": "c33df3a4-0eb0-4e19-a114-dba2958172c3",
   "metadata": {},
   "outputs": [
    {
     "name": "stdout",
     "output_type": "stream",
     "text": [
      "NASDAQ, which stands for the National Association of Securities Dealers Automated Quotations, is an American stock exchange. It is known for being technology-focused and is the second-largest stock exchange in the world by market capitalization. NASDAQ is home to many high-profile tech companies such as Apple, Microsoft, and Amazon. It is also known for its electronic trading platform, which allows for quicker transactions compared to traditional trading floors. Overall, NASDAQ plays a significant role in the global financial markets.\n"
     ]
    }
   ],
   "source": [
    "messages =  [  \n",
    "{'role':'system',\n",
    " 'content':'All your responses must be \\\n",
    "five sentences long.'},    \n",
    "{'role':'user',\n",
    " 'content':'write me a paragraph about NASDAQ'},  \n",
    "] \n",
    "response = get_completion_from_messages(messages, temperature =1)\n",
    "print(response)"
   ]
  },
  {
   "cell_type": "code",
   "execution_count": 67,
   "id": "f6ca6c51-cd84-45c3-82bb-7f59eda18721",
   "metadata": {},
   "outputs": [
    {
     "name": "stdout",
     "output_type": "stream",
     "text": [
      "NASDAQ, or the National Association of Securities Dealers Automated Quotations, is a stock exchange based in the United States that was founded in 1971. It is known for being a fully electronic trading platform where investors can buy and sell securities. NASDAQ is home to many technology and internet companies, making it a popular exchange for those looking to invest in innovative industries. It is also well-regarded for its transparency and efficiency in trading. Overall, NASDAQ plays a significant role in the global financial markets.\n"
     ]
    }
   ],
   "source": [
    "messages =  [  \n",
    "{'role':'system',\n",
    " 'content':'All your responses must be \\\n",
    "five sentences long.'},    \n",
    "{'role':'user',\n",
    " 'content':'write me a paragraph about NASDAQ'},  \n",
    "] \n",
    "response = get_completion_from_messages(messages, temperature =1)\n",
    "print(response)"
   ]
  },
  {
   "cell_type": "code",
   "execution_count": 69,
   "id": "accdcae8-b51d-45fa-b00e-fafae419fcce",
   "metadata": {},
   "outputs": [
    {
     "name": "stdout",
     "output_type": "stream",
     "text": [
      "NASDAQ, short for the National Association of Securities Dealers Automated Quotations, is an American stock exchange based in New York City. It is known for being the first electronic stock market in the world, providing a platform for buying and selling securities. NASDAQ is home to many technology and biotechnology companies, making it a hub for innovation and growth. It is also recognized for its high trading volume and volatility, attracting both institutional and retail investors. Overall, NASDAQ plays a crucial role in the global financial markets, shaping the landscape of modern investing.\n"
     ]
    }
   ],
   "source": [
    "messages =  [  \n",
    "{'role':'system',\n",
    " 'content':'All your responses must be \\\n",
    "five sentences long.'},    \n",
    "{'role':'user',\n",
    " 'content':'write me a paragraph about NASDAQ'},  \n",
    "] \n",
    "response = get_completion_from_messages(messages, temperature =0)\n",
    "print(response)"
   ]
  },
  {
   "cell_type": "code",
   "execution_count": 73,
   "id": "0ad2a92f-3df2-4762-b4ab-0ada00da8299",
   "metadata": {},
   "outputs": [
    {
     "name": "stdout",
     "output_type": "stream",
     "text": [
      "NASDAQ, short for the National Association of Securities Dealers Automated Quotations, is an American stock exchange located in New York City. It is known for being the first electronic stock market, allowing for faster and more efficient trading. NASDAQ is home to many technology and internet-based companies, making it a popular choice for investors looking to capitalize on the growth of these industries. The exchange is also known for its high trading volume and volatility, attracting both seasoned traders and new investors. Overall, NASDAQ plays a significant role in the global financial markets and is a key player in shaping the future of investing.\n"
     ]
    }
   ],
   "source": [
    "messages =  [  \n",
    "{'role':'system',\n",
    " 'content':'All your responses must be \\\n",
    "five sentences long.'},    \n",
    "{'role':'user',\n",
    " 'content':'write me a paragraph about NASDAQ'},  \n",
    "] \n",
    "response = get_completion_from_messages(messages, temperature =0.3)\n",
    "print(response)"
   ]
  },
  {
   "cell_type": "code",
   "execution_count": null,
   "id": "9277e480-63d9-4175-9240-7a68050a23f8",
   "metadata": {},
   "outputs": [],
   "source": []
  }
 ],
 "metadata": {
  "kernelspec": {
   "display_name": "Python 3 (ipykernel)",
   "language": "python",
   "name": "python3"
  },
  "language_info": {
   "codemirror_mode": {
    "name": "ipython",
    "version": 3
   },
   "file_extension": ".py",
   "mimetype": "text/x-python",
   "name": "python",
   "nbconvert_exporter": "python",
   "pygments_lexer": "ipython3",
   "version": "3.12.4"
  }
 },
 "nbformat": 4,
 "nbformat_minor": 5
}
