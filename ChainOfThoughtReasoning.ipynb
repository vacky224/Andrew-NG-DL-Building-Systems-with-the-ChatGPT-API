{
 "cells": [
  {
   "cell_type": "code",
   "execution_count": 1,
   "id": "f0bd5a25-a603-4381-9db8-f952dc48489d",
   "metadata": {},
   "outputs": [],
   "source": [
    "import os\n",
    "import openai\n",
    "from dotenv import load_dotenv, find_dotenv\n",
    "_ = load_dotenv(find_dotenv()) # read local .env file\n",
    "\n",
    "openai.api_key  = os.environ['OPENAI_API_KEY']"
   ]
  },
  {
   "cell_type": "code",
   "execution_count": 3,
   "id": "ac2c53fe-ae82-4687-aaf0-0fa9e14773da",
   "metadata": {},
   "outputs": [],
   "source": [
    "client = openai.OpenAI()\n",
    "def get_completion_from_messages(messages, model=\"gpt-3.5-turbo\",temperature=0,max_tokens=500):\n",
    "    response = client.chat.completions.create(\n",
    "        model=model,\n",
    "        messages=messages,\n",
    "        temperature=temperature,\n",
    "        max_tokens=max_tokens,\n",
    "    )\n",
    "    return response.choices[0].message.content"
   ]
  },
  {
   "cell_type": "code",
   "execution_count": 5,
   "id": "822598de-db93-41b6-9082-3782f5d2ebeb",
   "metadata": {},
   "outputs": [],
   "source": [
    "delimiter = \"####\"\n",
    "system_message = f\"\"\"\n",
    "Follow these steps to answer the customer queries.\n",
    "The customer query will be delimited with four hashtags,\\\n",
    "i.e. {delimiter}. \n",
    "\n",
    "Step 1:{delimiter} First decide whether the user is \\\n",
    "asking a question about a specific product or products. \\\n",
    "Product cateogry doesn't count. \n",
    "\n",
    "Step 2:{delimiter} If the user is asking about \\\n",
    "specific products, identify whether \\\n",
    "the products are in the following list.\n",
    "All available products: \n",
    "1. Product: TechPro Ultrabook\n",
    "   Category: Computers and Laptops\n",
    "   Brand: TechPro\n",
    "   Model Number: TP-UB100\n",
    "   Warranty: 1 year\n",
    "   Rating: 4.5\n",
    "   Features: 13.3-inch display, 8GB RAM, 256GB SSD, Intel Core i5 processor\n",
    "   Description: A sleek and lightweight ultrabook for everyday use.\n",
    "   Price: $799.99\n",
    "\n",
    "2. Product: BlueWave Gaming Laptop\n",
    "   Category: Computers and Laptops\n",
    "   Brand: BlueWave\n",
    "   Model Number: BW-GL200\n",
    "   Warranty: 2 years\n",
    "   Rating: 4.7\n",
    "   Features: 15.6-inch display, 16GB RAM, 512GB SSD, NVIDIA GeForce RTX 3060\n",
    "   Description: A high-performance gaming laptop for an immersive experience.\n",
    "   Price: $1199.99\n",
    "\n",
    "3. Product: PowerLite Convertible\n",
    "   Category: Computers and Laptops\n",
    "   Brand: PowerLite\n",
    "   Model Number: PL-CV300\n",
    "   Warranty: 1 year\n",
    "   Rating: 4.3\n",
    "   Features: 14-inch touchscreen, 8GB RAM, 256GB SSD, 360-degree hinge\n",
    "   Description: A versatile convertible laptop with a responsive touchscreen.\n",
    "   Price: $699.99\n",
    "\n",
    "4. Product: TechPro Desktop\n",
    "   Category: Computers and Laptops\n",
    "   Brand: TechPro\n",
    "   Model Number: TP-DT500\n",
    "   Warranty: 1 year\n",
    "   Rating: 4.4\n",
    "   Features: Intel Core i7 processor, 16GB RAM, 1TB HDD, NVIDIA GeForce GTX 1660\n",
    "   Description: A powerful desktop computer for work and play.\n",
    "   Price: $999.99\n",
    "\n",
    "5. Product: BlueWave Chromebook\n",
    "   Category: Computers and Laptops\n",
    "   Brand: BlueWave\n",
    "   Model Number: BW-CB100\n",
    "   Warranty: 1 year\n",
    "   Rating: 4.1\n",
    "   Features: 11.6-inch display, 4GB RAM, 32GB eMMC, Chrome OS\n",
    "   Description: A compact and affordable Chromebook for everyday tasks.\n",
    "   Price: $249.99\n",
    "\n",
    "Step 3:{delimiter} If the message contains products \\\n",
    "in the list above, list any assumptions that the \\\n",
    "user is making in their \\\n",
    "message e.g. that Laptop X is bigger than \\\n",
    "Laptop Y, or that Laptop Z has a 2 year warranty.\n",
    "\n",
    "Step 4:{delimiter}: If the user made any assumptions, \\\n",
    "figure out whether the assumption is true based on your \\\n",
    "product information. \n",
    "\n",
    "Step 5:{delimiter}: First, politely correct the \\\n",
    "customer's incorrect assumptions if applicable. \\\n",
    "Only mention or reference products in the list of \\\n",
    "5 available products, as these are the only 5 \\\n",
    "products that the store sells. \\\n",
    "Answer the customer in a friendly tone.\n",
    "\n",
    "Use the following format:\n",
    "Step 1:{delimiter} <step 1 reasoning>\n",
    "Step 2:{delimiter} <step 2 reasoning>\n",
    "Step 3:{delimiter} <step 3 reasoning>\n",
    "Step 4:{delimiter} <step 4 reasoning>\n",
    "Response to user:{delimiter} <response to customer>\n",
    "\n",
    "Make sure to include {delimiter} to separate every step.\n",
    "\"\"\""
   ]
  },
  {
   "cell_type": "code",
   "execution_count": 7,
   "id": "b2de6b72-1e0b-4a1b-8279-8250deb6b48e",
   "metadata": {},
   "outputs": [
    {
     "name": "stdout",
     "output_type": "stream",
     "text": [
      "Step 1:#### This is a comparison question between two specific products.\n",
      "Step 2:#### Both products are in the list of available products.\n",
      "Step 3:#### The assumption made by the user is that the BlueWave Chromebook is more expensive than the TechPro Desktop.\n",
      "Step 4:#### The TechPro Desktop is priced at $999.99, and the BlueWave Chromebook is priced at $249.99. Therefore, the BlueWave Chromebook is $750 cheaper than the TechPro Desktop.\n",
      "Response to user:#### The BlueWave Chromebook is actually $750 cheaper than the TechPro Desktop.\n"
     ]
    }
   ],
   "source": [
    "user_message = f\"\"\"\n",
    "by how much is the BlueWave Chromebook more expensive \\\n",
    "than the TechPro Desktop\"\"\"\n",
    "\n",
    "messages =  [  \n",
    "{'role':'system', \n",
    " 'content': system_message},    \n",
    "{'role':'user', \n",
    " 'content': f\"{delimiter}{user_message}{delimiter}\"},  \n",
    "] \n",
    "\n",
    "response = get_completion_from_messages(messages)\n",
    "print(response)"
   ]
  },
  {
   "cell_type": "code",
   "execution_count": null,
   "id": "27499b05-e584-4028-9f95-3b5fe2f67b9c",
   "metadata": {},
   "outputs": [],
   "source": []
  },
  {
   "cell_type": "code",
   "execution_count": 9,
   "id": "6945b715-edad-4dee-9265-3c8bee5c7476",
   "metadata": {},
   "outputs": [
    {
     "name": "stdout",
     "output_type": "stream",
     "text": [
      "Step 1:#### The user is asking about a specific product category (TVs) and not a specific product.\n",
      "Step 2:#### N/A\n",
      "Step 3:#### N/A\n",
      "Step 4:#### N/A\n",
      "Response to user:#### We currently do not sell TVs. Our store specializes in computers and laptops. If you have any questions regarding our available products, feel free to ask!\n"
     ]
    }
   ],
   "source": [
    "user_message = f\"\"\"\n",
    "do you sell tvs\"\"\"\n",
    "messages =  [  \n",
    "{'role':'system', \n",
    " 'content': system_message},    \n",
    "{'role':'user', \n",
    " 'content': f\"{delimiter}{user_message}{delimiter}\"},  \n",
    "] \n",
    "response = get_completion_from_messages(messages)\n",
    "print(response)"
   ]
  },
  {
   "cell_type": "code",
   "execution_count": 11,
   "id": "b9470f20-71ea-451e-9581-bdf69267596d",
   "metadata": {},
   "outputs": [
    {
     "name": "stdout",
     "output_type": "stream",
     "text": [
      "Step 1:#### The user is asking about a specific product category, which is phones. \n",
      "\n",
      "Response to user:#### We currently do not sell phones. Our store specializes in computers and laptops. If you have any questions regarding our available products in that category, feel free to ask!\n"
     ]
    }
   ],
   "source": [
    "user_message = f\"\"\"\n",
    "do you sell phones\"\"\"\n",
    "messages =  [  \n",
    "{'role':'system', \n",
    " 'content': system_message},    \n",
    "{'role':'user', \n",
    " 'content': f\"{delimiter}{user_message}{delimiter}\"},  \n",
    "] \n",
    "response = get_completion_from_messages(messages)\n",
    "print(response)"
   ]
  },
  {
   "cell_type": "code",
   "execution_count": 57,
   "id": "b4dc1aa9-b50a-49a2-96ea-03553797cdf3",
   "metadata": {},
   "outputs": [],
   "source": [
    "delimiter = \"####\"\n",
    "system_message = f\"\"\"\n",
    "Follow these steps to answer the customer queries.\n",
    "The customer query will be delimited with four hashtags,\\\n",
    "i.e. {delimiter}. \n",
    "\n",
    "Step 1:{delimiter} First decide whether the user is \\\n",
    "asking a question about a specific product or products. \\\n",
    "Product cateogry doesn't count. \n",
    "\n",
    "Step 2:{delimiter} If the user is asking about \\\n",
    "specific products, identify whether \\\n",
    "the products are in the following list.\n",
    "All available products: \n",
    "1. Product: 8 bedroom Airbnb Residence\n",
    "   Category: Accomodation\n",
    "   Brand: Luxvilla VR\n",
    "   Model Number: LX-VR-800\n",
    "   Warranty: Thru your bookings\n",
    "   Rating: 4.5\n",
    "   Features: 8 bedroom,5 bathroom Airbnb Residence\n",
    "   Description: Can House 16 People.\n",
    "   Price: $799.99 From May 1st to November 30th per day\n",
    "   Price: $1400.00 From December 1st to May 31st per day\n",
    "\n",
    "2. Product: 7 bedroom Airbnb Residence\n",
    "   Category: Accomodation\n",
    "   Brand: Luxvilla VR\n",
    "   Model Number: LX-VR-700\n",
    "   Warranty: Thru your bookings\n",
    "   Rating: 4.58\n",
    "   Features: 7 bedroom,4 bathroom Airbnb Residence\n",
    "   Description: Can House 14 People.\n",
    "   Price: $749.99 From May 1st to November 30th per day\n",
    "   Price: $1300.00 From December 1 to May 31st per day\n",
    "\n",
    "3. Product: 6 bedroom Airbnb Residence\n",
    "   Category: Accomodation and Long term stay\n",
    "   Brand: Luxvilla VR\n",
    "   Model Number: LX-VR-600\n",
    "   Warranty: Thru your bookings\n",
    "   Rating: 4.75\n",
    "   Features: 6 bedroom,3 bathroom Airbnb Residence\n",
    "   Description: Can House 12 People.\n",
    "   Price: $709.99 From May 1st to November 30th per day\n",
    "   Price: $1250.00 From December 1 to May 31st per day\n",
    "\n",
    "4. Product: 5 bedroom Airbnb Residence\n",
    "   Category: Accomodation\n",
    "   Brand: Luxvilla VR\n",
    "   Model Number: LX-VR-500\n",
    "   Warranty: Thru your bookings\n",
    "   Rating: 4.70\n",
    "   Features: 5 bedroom,4 bathroom Airbnb Residence\n",
    "   Description: Can House 10 People.\n",
    "   Price: $699.99 From May 1st to November 30th per day\n",
    "   Price: $1100.00 From December 1 to May 31st per day\n",
    "\n",
    "\n",
    "Step 3:{delimiter} If the message contains products \\\n",
    "in the list above, list any assumptions that the \\\n",
    "user is making in their \\\n",
    "message e.g. that Airbnb Residence X is bigger than \\\n",
    "Airbnb Residence Y, or that Airbnb Residence Z has a 2 year warranty.\n",
    "\n",
    "Step 4:{delimiter}: If the user made any assumptions, \\\n",
    "figure out whether the assumption is true based on your \\\n",
    "product information. \n",
    "\n",
    "Step 5:{delimiter}: First, politely correct the \\\n",
    "customer's incorrect assumptions if applicable. \\\n",
    "Only mention or reference products in the list of \\\n",
    "5 available products, as these are the only 5 \\\n",
    "products that the store sells. \\\n",
    "Answer the customer in a friendly tone.\n",
    "\n",
    "Step 6:{delimiter}: If the user has made their mind for the number of days, \\\n",
    "please multiply the number of days with the price \\\n",
    "and send the pricing. \n",
    "\n",
    "\n",
    "Use the following format:\n",
    "Step 1:{delimiter} <step 1 reasoning>\n",
    "Step 2:{delimiter} <step 2 reasoning>\n",
    "Step 3:{delimiter} <step 3 reasoning>\n",
    "Step 4:{delimiter} <step 4 reasoning>\n",
    "#Response to user:{delimiter} <response to customer>\n",
    "\n",
    "Make sure to include {delimiter} to separate every step.\n",
    "\"\"\""
   ]
  },
  {
   "cell_type": "code",
   "execution_count": 59,
   "id": "daecf680-f24f-4068-a8fb-4689e92a1c7b",
   "metadata": {},
   "outputs": [
    {
     "name": "stdout",
     "output_type": "stream",
     "text": [
      "Step 1:#### The user is asking about a specific product, the 7 bedroom Airbnb Residence.\n",
      "Step 2:#### The store has one 7 bedroom Airbnb Residence available.\n",
      "Step 3:#### The user assumes there might be more than one 7 bedroom Airbnb Residence available.\n",
      "Step 4:#### The assumption is not true as the store only has one 7 bedroom Airbnb Residence.\n",
      "#Response to user:#### We currently have one 7 bedroom Airbnb Residence available. If you are interested, please let us know for how many days you would like to book it.\n"
     ]
    }
   ],
   "source": [
    "user_message = f\"\"\"\n",
    "How many 7 bedrooms do you have?\n",
    "\"\"\"\n",
    "\n",
    "messages =  [  \n",
    "{'role':'system', \n",
    " 'content': system_message},    \n",
    "{'role':'user', \n",
    " 'content': f\"{delimiter}{user_message}{delimiter}\"},  \n",
    "] \n",
    "\n",
    "response = get_completion_from_messages(messages)\n",
    "print(response)"
   ]
  },
  {
   "cell_type": "code",
   "execution_count": 31,
   "id": "d8000a9c-32f9-4b71-8738-ce2b0e673d3f",
   "metadata": {},
   "outputs": [
    {
     "name": "stdout",
     "output_type": "stream",
     "text": [
      "#### Step 1: The user is asking about specific products.\n",
      "Step 2: The user is asking about the price difference between the 7 bedroom Airbnb Residence and the 6 bedroom Airbnb Residence.\n",
      "Step 3: The user is assuming that the price difference between the 7 bedroom and 6 bedroom Airbnb Residences is significant.\n",
      "Step 4: The price of the 7 bedroom Airbnb Residence is $749.99 from May 1st to November 30th and $1300.00 from December 1st to May 31st. The price of the 6 bedroom Airbnb Residence is $709.99 from May 1st to November 30th and $1250.00 from December 1st to May 31st. The price difference between the 7 bedroom and 6 bedroom Airbnb Residences is $40.00 from May 1st to November 30th and $50.00 from December 1st to May 31st.\n",
      "Response to user: The price difference between the 7 bedroom Airbnb Residence and the 6 bedroom Airbnb Residence ranges from $40.00 to $50.00 depending on the season.\n"
     ]
    }
   ],
   "source": [
    "user_message = f\"\"\"\n",
    "What is the price differencen between 7 bedroom home \\\n",
    "than the 6 bedroom one?\n",
    "\"\"\"\n",
    "\n",
    "messages =  [  \n",
    "{'role':'system', \n",
    " 'content': system_message},    \n",
    "{'role':'user', \n",
    " 'content': f\"{delimiter}{user_message}{delimiter}\"},  \n",
    "] \n",
    "\n",
    "response = get_completion_from_messages(messages)\n",
    "print(response)"
   ]
  },
  {
   "cell_type": "code",
   "execution_count": 49,
   "id": "f3034144-2d10-4c31-bd28-4b3dec68c678",
   "metadata": {},
   "outputs": [
    {
     "name": "stdout",
     "output_type": "stream",
     "text": [
      "#### Step 1: The user is asking about a specific product, the 7 bedroom Airbnb Residence.\n",
      "#### Step 2: The user is asking about the 7 bedroom Airbnb Residence.\n",
      "#### Step 3: The user assumes that the 7 bedroom home is available for booking on specific dates.\n",
      "#### Step 4: Based on the product information, the 7 bedroom Airbnb Residence is available for booking on the specified dates.\n",
      "#### Response to user: You can book the 7 bedroom Airbnb Residence from Nov 15th to Nov 20th. The total price for 5 days would be $749.99 x 5 = $3749.95.\n"
     ]
    }
   ],
   "source": [
    "user_message = f\"\"\"\n",
    "Can I book the 7 bedroom home \\\n",
    "on Nov 15th to Nov 20th, if so what is the price? \\\n",
    "What is the price of 5 days?\n",
    "\"\"\"\n",
    "\n",
    "messages =  [  \n",
    "{'role':'system', \n",
    " 'content': system_message},    \n",
    "{'role':'user', \n",
    " 'content': f\"{delimiter}{user_message}{delimiter}\"},  \n",
    "] \n",
    "\n",
    "response = get_completion_from_messages(messages)\n",
    "print(response)"
   ]
  },
  {
   "cell_type": "code",
   "execution_count": 65,
   "id": "5ad2fa77-ffb1-4161-89ec-88ddb7f3de94",
   "metadata": {},
   "outputs": [
    {
     "name": "stdout",
     "output_type": "stream",
     "text": [
      "#### Step 1: The user is asking about a specific product, the 3 bedroom home.\n",
      "#### Step 2: The 3 bedroom home is not listed among the available products.\n",
      "#### Step 3: The user is assuming the availability of a 3 bedroom home, which is not listed in the available products.\n",
      "#### Step 4: Since the 3 bedroom home is not listed among the available products, the user's assumption is not applicable.\n",
      "#Response to user:#### I'm sorry, but we do not have a 3 bedroom home available for booking. If you are interested in any of our listed accommodations, please let me know so I can provide you with the pricing information.\n",
      "I'm sorry, but we do not have a 3 bedroom home available for booking. If you are interested in any of our listed accommodations, please let me know so I can provide you with the pricing information.\n"
     ]
    }
   ],
   "source": [
    "user_message = f\"\"\"\n",
    "Can I book the 3 bedroom home \\\n",
    "on Nov 15th to Nov 20th, if so what is the price? \\\n",
    "What is the price of 5 days?\n",
    "\"\"\"\n",
    "\n",
    "messages =  [  \n",
    "{'role':'system', \n",
    " 'content': system_message},    \n",
    "{'role':'user', \n",
    " 'content': f\"{delimiter}{user_message}{delimiter}\"},  \n",
    "] \n",
    "\n",
    "response = get_completion_from_messages(messages)\n",
    "print(response)\n",
    "try:\n",
    "    final_response = response.split(delimiter)[-1].strip()\n",
    "except Exception as e:\n",
    "    final_response = \"Sorry, I'm having trouble right now, please try asking another question.\"\n",
    "    \n",
    "print(final_response)"
   ]
  },
  {
   "cell_type": "code",
   "execution_count": 63,
   "id": "6b0e4b03-01ca-421f-ad6d-403502e430af",
   "metadata": {},
   "outputs": [
    {
     "name": "stdout",
     "output_type": "stream",
     "text": [
      "We currently have one 7 bedroom Airbnb Residence available. If you are interested, please let us know for how many days you would like to book it.\n"
     ]
    }
   ],
   "source": [
    "try:\n",
    "    final_response = response.split(delimiter)[-1].strip()\n",
    "except Exception as e:\n",
    "    final_response = \"Sorry, I'm having trouble right now, please try asking another question.\"\n",
    "    \n",
    "print(final_response)"
   ]
  },
  {
   "cell_type": "code",
   "execution_count": null,
   "id": "45fa1d7d-c774-4220-a054-56224a13183f",
   "metadata": {},
   "outputs": [],
   "source": []
  }
 ],
 "metadata": {
  "kernelspec": {
   "display_name": "Python 3 (ipykernel)",
   "language": "python",
   "name": "python3"
  },
  "language_info": {
   "codemirror_mode": {
    "name": "ipython",
    "version": 3
   },
   "file_extension": ".py",
   "mimetype": "text/x-python",
   "name": "python",
   "nbconvert_exporter": "python",
   "pygments_lexer": "ipython3",
   "version": "3.12.4"
  }
 },
 "nbformat": 4,
 "nbformat_minor": 5
}
